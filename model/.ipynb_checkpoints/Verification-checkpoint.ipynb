{
 "cells": [
  {
   "cell_type": "code",
   "execution_count": 1,
   "metadata": {
    "id": "ZfAtK74VaGHi"
   },
   "outputs": [],
   "source": [
    "import cv2\n",
    "import os\n",
    "import random\n",
    "import numpy as np\n",
    "from matplotlib import pyplot as plt\n",
    "from tensorflow.keras.models import Model\n",
    "from tensorflow.keras.layers import Layer, Conv2D, Dense, MaxPooling2D, Input, Flatten,Subtract, Lambda, Concatenate\n",
    "import tensorflow as tf\n",
    "from tensorflow.keras.metrics import Precision, Recall, Accuracy"
   ]
  },
  {
   "cell_type": "code",
   "execution_count": 2,
   "metadata": {
    "colab": {
     "base_uri": "https://localhost:8080/"
    },
    "id": "QAoAv6lp9KTA",
    "outputId": "b3335c0a-a566-4a6b-cad2-db5c4470f8bf"
   },
   "outputs": [
    {
     "name": "stdout",
     "output_type": "stream",
     "text": [
      "Mounted at /content/drive\n"
     ]
    }
   ],
   "source": [
    "from google.colab import drive\n",
    "drive.mount('/content/drive')"
   ]
  },
  {
   "cell_type": "code",
   "execution_count": 3,
   "metadata": {
    "id": "46ojgEa69VWj"
   },
   "outputs": [],
   "source": [
    "SIZE = 200"
   ]
  },
  {
   "cell_type": "code",
   "execution_count": 4,
   "metadata": {
    "id": "Dx7PWP1_9YwQ"
   },
   "outputs": [],
   "source": [
    "\n",
    "def get_class_file_paths(path):\n",
    "    classes = os.listdir(path)\n",
    "    file_paths = {}\n",
    "    for class_name in classes:\n",
    "        class_path = os.path.join(path, class_name)\n",
    "        file_paths[class_name] = tf.data.Dataset.list_files(class_path + '/*.jpg')\n",
    "    return file_paths"
   ]
  },
  {
   "cell_type": "code",
   "execution_count": 5,
   "metadata": {
    "id": "7b_GHXNp9dsa"
   },
   "outputs": [],
   "source": [
    "def preprocess(file_path):\n",
    "\n",
    "    byte_img = tf.io.read_file(file_path)\n",
    "    img = tf.io.decode_jpeg(byte_img)\n",
    "\n",
    "    img = tf.image.resize(img, (SIZE,SIZE))\n",
    "    img = img / 255.0\n",
    "\n",
    "    return img"
   ]
  },
  {
   "cell_type": "code",
   "execution_count": 6,
   "metadata": {
    "id": "3cVC_EXf9iUP"
   },
   "outputs": [],
   "source": [
    "def preprocess_twin(input_img, validation_img, label):\n",
    "    return (preprocess(input_img), preprocess(validation_img), label)\n"
   ]
  },
  {
   "cell_type": "code",
   "execution_count": 7,
   "metadata": {
    "id": "SUcIK-ZM99cr"
   },
   "outputs": [],
   "source": [
    "def make_embedding():\n",
    "    inp = Input(shape=(SIZE,SIZE,1), name='input_image')\n",
    "\n",
    "    c1 = Conv2D(64, (10,10), activation='relu')(inp)\n",
    "    m1 = MaxPooling2D(64, (2,2), padding='same')(c1)\n",
    "\n",
    "    c2 = Conv2D(128, (7,7), activation='relu')(m1)\n",
    "    m2 = MaxPooling2D(64, (2,2), padding='same')(c2)\n",
    "\n",
    "    c3 = Conv2D(128, (4,4), activation='relu')(m2)\n",
    "    m3 = MaxPooling2D(64, (2,2), padding='same')(c3)\n",
    "\n",
    "    c4 = Conv2D(256, (4,4), activation='relu')(m3)\n",
    "    f1 = Flatten()(c4)\n",
    "    d1 = Dense(4096, activation='sigmoid')(f1)\n",
    "\n",
    "\n",
    "    return Model(inputs=[inp], outputs=[d1], name='embedding')"
   ]
  },
  {
   "cell_type": "code",
   "execution_count": 8,
   "metadata": {
    "id": "vJkPHl2C-E5g"
   },
   "outputs": [],
   "source": [
    "embedding = make_embedding()"
   ]
  },
  {
   "cell_type": "code",
   "execution_count": 9,
   "metadata": {
    "id": "aOaPLibX-Jwa"
   },
   "outputs": [],
   "source": [
    "# Siamese L1 Distance class\n",
    "class L1Dist(Layer):\n",
    "\n",
    "    def __init__(self, **kwargs):\n",
    "        super().__init__()\n",
    "\n",
    "    def call(self, input_embedding, validation_embedding):\n",
    "        return tf.math.abs(input_embedding - validation_embedding)"
   ]
  },
  {
   "cell_type": "code",
   "execution_count": 10,
   "metadata": {
    "colab": {
     "base_uri": "https://localhost:8080/"
    },
    "id": "y6kDh-W7-Ov-",
    "outputId": "f4bf08f4-0bd9-42f2-8d1c-079dae7a50c1"
   },
   "outputs": [
    {
     "name": "stderr",
     "output_type": "stream",
     "text": [
      "WARNING:absl:No training configuration found in the save file, so the model was *not* compiled. Compile it manually.\n"
     ]
    }
   ],
   "source": [
    "# Reload model\n",
    "siamese_model = tf.keras.models.load_model('/content/drive/MyDrive/log_id_project/model/siamesemodel_gray_cnn.h5',\n",
    "                                   custom_objects={'L1Dist':L1Dist, 'BinaryCrossentropy':tf.losses.BinaryCrossentropy})"
   ]
  },
  {
   "cell_type": "code",
   "execution_count": 50,
   "metadata": {
    "id": "pl_BKzrwOhxE"
   },
   "outputs": [],
   "source": [
    "#input image path, reference image where we need to verify the identity. The image should me preprocessed and grayscale\n",
    "input_path = '/content/drive/MyDrive/log_id_project/data/database/input/input_pine4.jpg'\n",
    "#folder path where the tree images locate. One image per each tree. tree name is the file name\n",
    "validation_path = '/content/drive/MyDrive/log_id_project/data/database/verification'"
   ]
  },
  {
   "cell_type": "code",
   "execution_count": 51,
   "metadata": {
    "id": "iSk1BpBf-ixt"
   },
   "outputs": [],
   "source": [
    "def verify(model,detection_threshold):\n",
    "    results = {}\n",
    "    for image in os.listdir(os.path.join(validation_path)):\n",
    "        input_img = preprocess(os.path.join(input_path))\n",
    "        validation_img = preprocess(os.path.join(validation_path, image))\n",
    "        tree_name = os.path.splitext(os.path.basename(image))[0]\n",
    "        result = model.predict(list(np.expand_dims([input_img, validation_img], axis=1)))\n",
    "        if result > detection_threshold:\n",
    "            results[tree_name] = result\n",
    "\n",
    "    print(results)\n",
    "\n",
    "\n",
    "    if len(results)==1:\n",
    "      end_result = f\"This tree is {list(results.keys())[0]}\"\n",
    "      confident = (results.values())[0]\n",
    "    elif len(results)>1:\n",
    "      max_key = max(results, key=results.get)\n",
    "      end_result = f\"This tree is {max_key}\"\n",
    "      confident = results[max_key] \n",
    "    else:\n",
    "      end_result = \"This tree is not in the database\"\n",
    "      confident = 50\n",
    "    \n",
    "    if confident>90:\n",
    "        match = \"Close Match\"\n",
    "    elif confident>80:\n",
    "        match = \"Strong Match\"\n",
    "    elif confident>70:\n",
    "        match = \"Good Match\"\n",
    "    else:\n",
    "        match = \"Fair Match\"\n",
    "    return end_result, confident, match"
   ]
  },
  {
   "cell_type": "code",
   "execution_count": 52,
   "metadata": {
    "colab": {
     "base_uri": "https://localhost:8080/"
    },
    "id": "gedDH7MQ-X6K",
    "outputId": "f955bfa1-1bac-465f-e65b-14abdcd86c97"
   },
   "outputs": [
    {
     "name": "stdout",
     "output_type": "stream",
     "text": [
      "\u001b[1m1/1\u001b[0m \u001b[32m━━━━━━━━━━━━━━━━━━━━\u001b[0m\u001b[37m\u001b[0m \u001b[1m2s\u001b[0m 2s/step\n",
      "\u001b[1m1/1\u001b[0m \u001b[32m━━━━━━━━━━━━━━━━━━━━\u001b[0m\u001b[37m\u001b[0m \u001b[1m1s\u001b[0m 1s/step\n",
      "\u001b[1m1/1\u001b[0m \u001b[32m━━━━━━━━━━━━━━━━━━━━\u001b[0m\u001b[37m\u001b[0m \u001b[1m1s\u001b[0m 1s/step\n",
      "\u001b[1m1/1\u001b[0m \u001b[32m━━━━━━━━━━━━━━━━━━━━\u001b[0m\u001b[37m\u001b[0m \u001b[1m1s\u001b[0m 1s/step\n",
      "\u001b[1m1/1\u001b[0m \u001b[32m━━━━━━━━━━━━━━━━━━━━\u001b[0m\u001b[37m\u001b[0m \u001b[1m1s\u001b[0m 1s/step\n",
      "{'pine 4': array([[0.84521914]], dtype=float32)}\n"
     ]
    }
   ],
   "source": [
    "end_result = verify(siamese_model,0.5)"
   ]
  },
  {
   "cell_type": "code",
   "execution_count": 53,
   "metadata": {
    "colab": {
     "base_uri": "https://localhost:8080/",
     "height": 35
    },
    "id": "CV8Z5W4t_9p1",
    "outputId": "1b894d6e-e87d-4e8a-8ff5-8a77cb99d7a1"
   },
   "outputs": [
    {
     "data": {
      "application/vnd.google.colaboratory.intrinsic+json": {
       "type": "string"
      },
      "text/plain": [
       "'This tree is pine 4'"
      ]
     },
     "execution_count": 53,
     "metadata": {},
     "output_type": "execute_result"
    }
   ],
   "source": [
    "end_result"
   ]
  },
  {
   "cell_type": "code",
   "execution_count": null,
   "metadata": {
    "id": "MfWrDwTFUneY"
   },
   "outputs": [],
   "source": []
  }
 ],
 "metadata": {
  "colab": {
   "provenance": []
  },
  "kernelspec": {
   "display_name": "Python 3 (ipykernel)",
   "language": "python",
   "name": "python3"
  },
  "language_info": {
   "codemirror_mode": {
    "name": "ipython",
    "version": 3
   },
   "file_extension": ".py",
   "mimetype": "text/x-python",
   "name": "python",
   "nbconvert_exporter": "python",
   "pygments_lexer": "ipython3",
   "version": "3.12.2"
  },
  "widgets": {
   "application/vnd.jupyter.widget-state+json": {
    "state": {},
    "version_major": 2,
    "version_minor": 0
   }
  }
 },
 "nbformat": 4,
 "nbformat_minor": 4
}
